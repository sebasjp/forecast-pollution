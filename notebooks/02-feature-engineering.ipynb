{
 "cells": [
  {
   "cell_type": "code",
   "execution_count": 1,
   "metadata": {},
   "outputs": [],
   "source": [
    "import pandas as pd\n",
    "import numpy as np\n",
    "import matplotlib.pyplot as plt\n",
    "from dateutil.relativedelta import relativedelta\n",
    "from sklearn.preprocessing import OneHotEncoder\n",
    "import sys\n",
    "sys.path.append(\"..\")\n",
    "\n",
    "from src.utils import add_zero\n",
    "from src.utils import fix_colnames"
   ]
  },
  {
   "cell_type": "code",
   "execution_count": 2,
   "metadata": {},
   "outputs": [],
   "source": [
    "pd.options.display.max_columns = None"
   ]
  },
  {
   "cell_type": "markdown",
   "metadata": {},
   "source": [
    "The following function comes from `01-data-exploration` notebook:"
   ]
  },
  {
   "cell_type": "code",
   "execution_count": 3,
   "metadata": {},
   "outputs": [],
   "source": [
    "def process_date(df: pd.DataFrame):\n",
    "    \"\"\"\n",
    "    This function aims to build the date variable with the format %Y-%m-%d %H:%M\n",
    "    \n",
    "    Arguments\n",
    "    ---------\n",
    "    df (pd.DataFrame): raw data\n",
    "    \n",
    "    Return\n",
    "    ------\n",
    "    data (pd.DataFrame): data with date processed\n",
    "    \"\"\"\n",
    "    \n",
    "    data = df.copy()\n",
    "    \n",
    "    # Build date column: format Y-m-d H:m\n",
    "    data[\"month\"] = data[\"month\"].apply(add_zero)\n",
    "    data[\"day\"]   = data[\"day\"].apply(add_zero)\n",
    "    data[\"hour\"]  = data[\"hour\"].apply(add_zero)\n",
    "\n",
    "    date_str = (\n",
    "        data[\"year\"].astype(str) + \"-\" + \n",
    "        data[\"month\"] + \"-\" + \n",
    "        data[\"day\"] + \" \" + \n",
    "        data[\"hour\"] + \":00\"\n",
    "    )\n",
    "    data[\"date\"] = pd.to_datetime(date_str)\n",
    "    data[\"day_name\"] = data[\"date\"].dt.strftime(\"%a\")\n",
    "    data = data.drop(columns = [\"year\", \"month\", \"day\"])\n",
    "    \n",
    "    return data\n",
    "\n",
    "def process_data(df: pd.DataFrame):\n",
    "    \"\"\"\n",
    "    This function aims to process the raw data\n",
    "    \n",
    "    Arguments\n",
    "    ---------\n",
    "    df (pd.DataFrame): raw data\n",
    "    \n",
    "    Return\n",
    "    ------\n",
    "    data (pd.DataFrame): data processed    \n",
    "    \"\"\"    \n",
    "    data = df.copy()\n",
    "    \n",
    "    data.columns = fix_colnames(data.columns)\n",
    "    data = process_date(data)    \n",
    "    \n",
    "    data = data.dropna(subset=[\"pm2_5\"])\n",
    "    \n",
    "    # cbwd has these categories: SE, NW, NE and cv\n",
    "    # we can suppose that cv is SW\n",
    "    data[\"cbwd\"] = data[\"cbwd\"].replace({\"cv\": \"SW\"})\n",
    "\n",
    "    # drop useless columns\n",
    "    cols_drop = [\"no\"]\n",
    "    data = data.drop(columns=cols_drop)\n",
    "    \n",
    "    data = data.set_index(\"date\")\n",
    "    \n",
    "    return data"
   ]
  },
  {
   "cell_type": "markdown",
   "metadata": {},
   "source": [
    "### Load data"
   ]
  },
  {
   "cell_type": "code",
   "execution_count": 4,
   "metadata": {},
   "outputs": [],
   "source": [
    "df = pd.read_csv(\"../data/PRSA_data_2010.1.1-2014.12.31.csv\")"
   ]
  },
  {
   "cell_type": "code",
   "execution_count": 5,
   "metadata": {},
   "outputs": [],
   "source": [
    "df_prd = process_data(df)"
   ]
  },
  {
   "cell_type": "markdown",
   "metadata": {},
   "source": [
    "### Feature engineering\n",
    "\n",
    "One useful thing when we have cyclical features like the hour is to use the transformation sine and cosine."
   ]
  },
  {
   "cell_type": "code",
   "execution_count": 6,
   "metadata": {},
   "outputs": [],
   "source": [
    "# Sine and cosine representation - source: \n",
    "# https://www.cienciadedatos.net/documentos/py39-forecasting-series-temporales-con-skforecast-xgboost-lightgbm-catboost.html\n",
    "df_prd[\"hour\"] = df_prd[\"hour\"].astype(int)\n",
    "df_prd['hour_sin'] = np.sin(df_prd['hour'] / 23 * 2 * np.pi)\n",
    "df_prd['hour_cos'] = np.cos(df_prd['hour'] / 23 * 2 * np.pi)"
   ]
  },
  {
   "cell_type": "code",
   "execution_count": 7,
   "metadata": {},
   "outputs": [
    {
     "data": {
      "image/png": "[encoded data removed]",
      "text/plain": [
       "<Figure size 432x288 with 2 Axes>"
      ]
     },
     "metadata": {
      "needs_background": "light"
     },
     "output_type": "display_data"
    }
   ],
   "source": [
    "fig, ax = plt.subplots(figsize=(6, 4))\n",
    "sp = ax.scatter(df_prd[\"hour_sin\"], df_prd[\"hour_cos\"], c=df_prd[\"hour\"])\n",
    "ax.set(\n",
    "    xlabel=\"sin(hour)\",\n",
    "    ylabel=\"cos(hour)\",\n",
    ")\n",
    "_ = fig.colorbar(sp)"
   ]
  },
  {
   "cell_type": "markdown",
   "metadata": {},
   "source": [
    "OneHotEncoder for qualitative features"
   ]
  },
  {
   "cell_type": "code",
   "execution_count": 9,
   "metadata": {},
   "outputs": [],
   "source": [
    "quali_feat = [\"cbwd\", \"day_name\"]\n",
    "\n",
    "enc = OneHotEncoder()\n",
    "enc.fit(df_prd[quali_feat])\n",
    "\n",
    "one_hot_arr = enc.transform(df_prd[quali_feat]).toarray()\n",
    "\n",
    "labels = [x for sublist in enc.categories_ for x in sublist]\n",
    "one_hot_df = pd.DataFrame(one_hot_arr, columns=labels, index=df_prd.index)\n",
    "\n",
    "df_prd = df_prd.join(one_hot_df)"
   ]
  },
  {
   "cell_type": "markdown",
   "metadata": {},
   "source": [
    "Due that we want to forecast one month ahead, we can't use `dewp`, `temp`, `pres`, `iws`, `is`and `ir`, because we don't have these features in the future. If we would want to use these feature we would have to build one model by feature in order to forecast them."
   ]
  },
  {
   "cell_type": "code",
   "execution_count": 10,
   "metadata": {},
   "outputs": [],
   "source": [
    "cols_to_drop = quali_feat + \\\n",
    "               [\"dewp\", \"temp\", \"pres\", \"iws\", \"is\", \"ir\", \"hour\", \"cbwd\", \"day_name\"]\n",
    "\n",
    "df_prd = df_prd.drop(columns=cols_to_drop)"
   ]
  },
  {
   "cell_type": "code",
   "execution_count": 11,
   "metadata": {},
   "outputs": [
    {
     "name": "stdout",
     "output_type": "stream",
     "text": [
      "(41757, 14)\n"
     ]
    },
    {
     "data": {
      "text/html": [
       "<div>\n",
       "<style scoped>\n",
       "    .dataframe tbody tr th:only-of-type {\n",
       "        vertical-align: middle;\n",
       "    }\n",
       "\n",
       "    .dataframe tbody tr th {\n",
       "        vertical-align: top;\n",
       "    }\n",
       "\n",
       "    .dataframe thead th {\n",
       "        text-align: right;\n",
       "    }\n",
       "</style>\n",
       "<table border=\"1\" class=\"dataframe\">\n",
       "  <thead>\n",
       "    <tr style=\"text-align: right;\">\n",
       "      <th></th>\n",
       "      <th>pm2_5</th>\n",
       "      <th>hour_sin</th>\n",
       "      <th>hour_cos</th>\n",
       "      <th>NE</th>\n",
       "      <th>NW</th>\n",
       "      <th>SE</th>\n",
       "      <th>SW</th>\n",
       "      <th>Fri</th>\n",
       "      <th>Mon</th>\n",
       "      <th>Sat</th>\n",
       "      <th>Sun</th>\n",
       "      <th>Thu</th>\n",
       "      <th>Tue</th>\n",
       "      <th>Wed</th>\n",
       "    </tr>\n",
       "    <tr>\n",
       "      <th>date</th>\n",
       "      <th></th>\n",
       "      <th></th>\n",
       "      <th></th>\n",
       "      <th></th>\n",
       "      <th></th>\n",
       "      <th></th>\n",
       "      <th></th>\n",
       "      <th></th>\n",
       "      <th></th>\n",
       "      <th></th>\n",
       "      <th></th>\n",
       "      <th></th>\n",
       "      <th></th>\n",
       "      <th></th>\n",
       "    </tr>\n",
       "  </thead>\n",
       "  <tbody>\n",
       "    <tr>\n",
       "      <th>2010-01-02 00:00:00</th>\n",
       "      <td>129.0</td>\n",
       "      <td>0.000000</td>\n",
       "      <td>1.000000</td>\n",
       "      <td>0.0</td>\n",
       "      <td>0.0</td>\n",
       "      <td>1.0</td>\n",
       "      <td>0.0</td>\n",
       "      <td>0.0</td>\n",
       "      <td>0.0</td>\n",
       "      <td>1.0</td>\n",
       "      <td>0.0</td>\n",
       "      <td>0.0</td>\n",
       "      <td>0.0</td>\n",
       "      <td>0.0</td>\n",
       "    </tr>\n",
       "    <tr>\n",
       "      <th>2010-01-02 01:00:00</th>\n",
       "      <td>148.0</td>\n",
       "      <td>0.269797</td>\n",
       "      <td>0.962917</td>\n",
       "      <td>0.0</td>\n",
       "      <td>0.0</td>\n",
       "      <td>1.0</td>\n",
       "      <td>0.0</td>\n",
       "      <td>0.0</td>\n",
       "      <td>0.0</td>\n",
       "      <td>1.0</td>\n",
       "      <td>0.0</td>\n",
       "      <td>0.0</td>\n",
       "      <td>0.0</td>\n",
       "      <td>0.0</td>\n",
       "    </tr>\n",
       "    <tr>\n",
       "      <th>2010-01-02 02:00:00</th>\n",
       "      <td>159.0</td>\n",
       "      <td>0.519584</td>\n",
       "      <td>0.854419</td>\n",
       "      <td>0.0</td>\n",
       "      <td>0.0</td>\n",
       "      <td>1.0</td>\n",
       "      <td>0.0</td>\n",
       "      <td>0.0</td>\n",
       "      <td>0.0</td>\n",
       "      <td>1.0</td>\n",
       "      <td>0.0</td>\n",
       "      <td>0.0</td>\n",
       "      <td>0.0</td>\n",
       "      <td>0.0</td>\n",
       "    </tr>\n",
       "    <tr>\n",
       "      <th>2010-01-02 03:00:00</th>\n",
       "      <td>181.0</td>\n",
       "      <td>0.730836</td>\n",
       "      <td>0.682553</td>\n",
       "      <td>0.0</td>\n",
       "      <td>0.0</td>\n",
       "      <td>1.0</td>\n",
       "      <td>0.0</td>\n",
       "      <td>0.0</td>\n",
       "      <td>0.0</td>\n",
       "      <td>1.0</td>\n",
       "      <td>0.0</td>\n",
       "      <td>0.0</td>\n",
       "      <td>0.0</td>\n",
       "      <td>0.0</td>\n",
       "    </tr>\n",
       "    <tr>\n",
       "      <th>2010-01-02 04:00:00</th>\n",
       "      <td>138.0</td>\n",
       "      <td>0.887885</td>\n",
       "      <td>0.460065</td>\n",
       "      <td>0.0</td>\n",
       "      <td>0.0</td>\n",
       "      <td>1.0</td>\n",
       "      <td>0.0</td>\n",
       "      <td>0.0</td>\n",
       "      <td>0.0</td>\n",
       "      <td>1.0</td>\n",
       "      <td>0.0</td>\n",
       "      <td>0.0</td>\n",
       "      <td>0.0</td>\n",
       "      <td>0.0</td>\n",
       "    </tr>\n",
       "  </tbody>\n",
       "</table>\n",
       "</div>"
      ],
      "text/plain": [
       "                     pm2_5  hour_sin  hour_cos   NE   NW   SE   SW  Fri  Mon  \\\n",
       "date                                                                           \n",
       "2010-01-02 00:00:00  129.0  0.000000  1.000000  0.0  0.0  1.0  0.0  0.0  0.0   \n",
       "2010-01-02 01:00:00  148.0  0.269797  0.962917  0.0  0.0  1.0  0.0  0.0  0.0   \n",
       "2010-01-02 02:00:00  159.0  0.519584  0.854419  0.0  0.0  1.0  0.0  0.0  0.0   \n",
       "2010-01-02 03:00:00  181.0  0.730836  0.682553  0.0  0.0  1.0  0.0  0.0  0.0   \n",
       "2010-01-02 04:00:00  138.0  0.887885  0.460065  0.0  0.0  1.0  0.0  0.0  0.0   \n",
       "\n",
       "                     Sat  Sun  Thu  Tue  Wed  \n",
       "date                                          \n",
       "2010-01-02 00:00:00  1.0  0.0  0.0  0.0  0.0  \n",
       "2010-01-02 01:00:00  1.0  0.0  0.0  0.0  0.0  \n",
       "2010-01-02 02:00:00  1.0  0.0  0.0  0.0  0.0  \n",
       "2010-01-02 03:00:00  1.0  0.0  0.0  0.0  0.0  \n",
       "2010-01-02 04:00:00  1.0  0.0  0.0  0.0  0.0  "
      ]
     },
     "execution_count": 11,
     "metadata": {},
     "output_type": "execute_result"
    }
   ],
   "source": [
    "print(df_prd.shape)\n",
    "df_prd.head()"
   ]
  },
  {
   "cell_type": "markdown",
   "metadata": {},
   "source": [
    "### Train - Validation - Test split\n",
    "\n",
    "We are going to use one month as validation and the last month as test dataset"
   ]
  },
  {
   "cell_type": "code",
   "execution_count": 16,
   "metadata": {},
   "outputs": [],
   "source": [
    "def train_val_test_split(df, n_months_test=1):\n",
    "    \n",
    "    data = df.copy()\n",
    "    \n",
    "    min_date  = data.index.min()\n",
    "    max_date  = data.index.max()\n",
    "\n",
    "    val_date  = max_date - relativedelta(months = (n_months_test+1))\n",
    "    test_date = max_date - relativedelta(months = n_months_test)\n",
    "    \n",
    "    train = data[data.index <= val_date]\n",
    "    val   = data[(data.index > val_date) & (data.index <= test_date)]\n",
    "    test  = data[data.index > test_date]\n",
    "\n",
    "    print(\"Train shape: {} from: {} to: {}\".format(train.shape, train.index.min(), train.index.max()))\n",
    "    print(\"  Val shape: {} from: {} to: {}\".format(val.shape, val.index.min(), val.index.max()))\n",
    "    print(\" Test shape: {} from: {} to: {}\".format(test.shape, test.index.min(), test.index.max()))\n",
    "\n",
    "    return train, val, test"
   ]
  },
  {
   "cell_type": "code",
   "execution_count": 17,
   "metadata": {},
   "outputs": [
    {
     "name": "stdout",
     "output_type": "stream",
     "text": [
      "Train shape: (40335, 14) from: 2010-01-02 00:00:00 to: 2014-10-31 23:00:00\n",
      "  Val shape: (706, 14) from: 2014-11-01 00:00:00 to: 2014-11-30 23:00:00\n",
      " Test shape: (716, 14) from: 2014-12-01 00:00:00 to: 2014-12-31 23:00:00\n"
     ]
    }
   ],
   "source": [
    "train, val, test = train_val_test_split(df_prd)"
   ]
  },
  {
   "cell_type": "code",
   "execution_count": 18,
   "metadata": {},
   "outputs": [
    {
     "name": "stdout",
     "output_type": "stream",
     "text": [
      "(40335, 14)\n"
     ]
    },
    {
     "data": {
      "text/html": [
       "<div>\n",
       "<style scoped>\n",
       "    .dataframe tbody tr th:only-of-type {\n",
       "        vertical-align: middle;\n",
       "    }\n",
       "\n",
       "    .dataframe tbody tr th {\n",
       "        vertical-align: top;\n",
       "    }\n",
       "\n",
       "    .dataframe thead th {\n",
       "        text-align: right;\n",
       "    }\n",
       "</style>\n",
       "<table border=\"1\" class=\"dataframe\">\n",
       "  <thead>\n",
       "    <tr style=\"text-align: right;\">\n",
       "      <th></th>\n",
       "      <th>pm2_5</th>\n",
       "      <th>hour_sin</th>\n",
       "      <th>hour_cos</th>\n",
       "      <th>NE</th>\n",
       "      <th>NW</th>\n",
       "      <th>SE</th>\n",
       "      <th>SW</th>\n",
       "      <th>Fri</th>\n",
       "      <th>Mon</th>\n",
       "      <th>Sat</th>\n",
       "      <th>Sun</th>\n",
       "      <th>Thu</th>\n",
       "      <th>Tue</th>\n",
       "      <th>Wed</th>\n",
       "    </tr>\n",
       "    <tr>\n",
       "      <th>date</th>\n",
       "      <th></th>\n",
       "      <th></th>\n",
       "      <th></th>\n",
       "      <th></th>\n",
       "      <th></th>\n",
       "      <th></th>\n",
       "      <th></th>\n",
       "      <th></th>\n",
       "      <th></th>\n",
       "      <th></th>\n",
       "      <th></th>\n",
       "      <th></th>\n",
       "      <th></th>\n",
       "      <th></th>\n",
       "    </tr>\n",
       "  </thead>\n",
       "  <tbody>\n",
       "    <tr>\n",
       "      <th>2010-01-02 00:00:00</th>\n",
       "      <td>129.0</td>\n",
       "      <td>0.000000</td>\n",
       "      <td>1.000000</td>\n",
       "      <td>0.0</td>\n",
       "      <td>0.0</td>\n",
       "      <td>1.0</td>\n",
       "      <td>0.0</td>\n",
       "      <td>0.0</td>\n",
       "      <td>0.0</td>\n",
       "      <td>1.0</td>\n",
       "      <td>0.0</td>\n",
       "      <td>0.0</td>\n",
       "      <td>0.0</td>\n",
       "      <td>0.0</td>\n",
       "    </tr>\n",
       "    <tr>\n",
       "      <th>2010-01-02 01:00:00</th>\n",
       "      <td>148.0</td>\n",
       "      <td>0.269797</td>\n",
       "      <td>0.962917</td>\n",
       "      <td>0.0</td>\n",
       "      <td>0.0</td>\n",
       "      <td>1.0</td>\n",
       "      <td>0.0</td>\n",
       "      <td>0.0</td>\n",
       "      <td>0.0</td>\n",
       "      <td>1.0</td>\n",
       "      <td>0.0</td>\n",
       "      <td>0.0</td>\n",
       "      <td>0.0</td>\n",
       "      <td>0.0</td>\n",
       "    </tr>\n",
       "    <tr>\n",
       "      <th>2010-01-02 02:00:00</th>\n",
       "      <td>159.0</td>\n",
       "      <td>0.519584</td>\n",
       "      <td>0.854419</td>\n",
       "      <td>0.0</td>\n",
       "      <td>0.0</td>\n",
       "      <td>1.0</td>\n",
       "      <td>0.0</td>\n",
       "      <td>0.0</td>\n",
       "      <td>0.0</td>\n",
       "      <td>1.0</td>\n",
       "      <td>0.0</td>\n",
       "      <td>0.0</td>\n",
       "      <td>0.0</td>\n",
       "      <td>0.0</td>\n",
       "    </tr>\n",
       "    <tr>\n",
       "      <th>2010-01-02 03:00:00</th>\n",
       "      <td>181.0</td>\n",
       "      <td>0.730836</td>\n",
       "      <td>0.682553</td>\n",
       "      <td>0.0</td>\n",
       "      <td>0.0</td>\n",
       "      <td>1.0</td>\n",
       "      <td>0.0</td>\n",
       "      <td>0.0</td>\n",
       "      <td>0.0</td>\n",
       "      <td>1.0</td>\n",
       "      <td>0.0</td>\n",
       "      <td>0.0</td>\n",
       "      <td>0.0</td>\n",
       "      <td>0.0</td>\n",
       "    </tr>\n",
       "    <tr>\n",
       "      <th>2010-01-02 04:00:00</th>\n",
       "      <td>138.0</td>\n",
       "      <td>0.887885</td>\n",
       "      <td>0.460065</td>\n",
       "      <td>0.0</td>\n",
       "      <td>0.0</td>\n",
       "      <td>1.0</td>\n",
       "      <td>0.0</td>\n",
       "      <td>0.0</td>\n",
       "      <td>0.0</td>\n",
       "      <td>1.0</td>\n",
       "      <td>0.0</td>\n",
       "      <td>0.0</td>\n",
       "      <td>0.0</td>\n",
       "      <td>0.0</td>\n",
       "    </tr>\n",
       "  </tbody>\n",
       "</table>\n",
       "</div>"
      ],
      "text/plain": [
       "                     pm2_5  hour_sin  hour_cos   NE   NW   SE   SW  Fri  Mon  \\\n",
       "date                                                                           \n",
       "2010-01-02 00:00:00  129.0  0.000000  1.000000  0.0  0.0  1.0  0.0  0.0  0.0   \n",
       "2010-01-02 01:00:00  148.0  0.269797  0.962917  0.0  0.0  1.0  0.0  0.0  0.0   \n",
       "2010-01-02 02:00:00  159.0  0.519584  0.854419  0.0  0.0  1.0  0.0  0.0  0.0   \n",
       "2010-01-02 03:00:00  181.0  0.730836  0.682553  0.0  0.0  1.0  0.0  0.0  0.0   \n",
       "2010-01-02 04:00:00  138.0  0.887885  0.460065  0.0  0.0  1.0  0.0  0.0  0.0   \n",
       "\n",
       "                     Sat  Sun  Thu  Tue  Wed  \n",
       "date                                          \n",
       "2010-01-02 00:00:00  1.0  0.0  0.0  0.0  0.0  \n",
       "2010-01-02 01:00:00  1.0  0.0  0.0  0.0  0.0  \n",
       "2010-01-02 02:00:00  1.0  0.0  0.0  0.0  0.0  \n",
       "2010-01-02 03:00:00  1.0  0.0  0.0  0.0  0.0  \n",
       "2010-01-02 04:00:00  1.0  0.0  0.0  0.0  0.0  "
      ]
     },
     "execution_count": 18,
     "metadata": {},
     "output_type": "execute_result"
    }
   ],
   "source": [
    "print(train.shape)\n",
    "train.head()"
   ]
  },
  {
   "cell_type": "code",
   "execution_count": 19,
   "metadata": {},
   "outputs": [],
   "source": [
    "train.to_csv(\"../data/train.txt\", sep=\"|\")\n",
    "val.to_csv(\"../data/val.txt\", sep=\"|\")\n",
    "test.to_csv(\"../data/test.txt\", sep=\"|\")"
   ]
  },
  {
   "cell_type": "markdown",
   "metadata": {},
   "source": [
    "## References"
   ]
  },
  {
   "cell_type": "markdown",
   "metadata": {},
   "source": [
    "https://www.cienciadedatos.net/documentos/py39-forecasting-series-temporales-con-skforecast-xgboost-lightgbm-catboost.html"
   ]
  }
 ],
 "metadata": {
  "kernelspec": {
   "display_name": "Python 3",
   "language": "python",
   "name": "python3"
  },
  "language_info": {
   "codemirror_mode": {
    "name": "ipython",
    "version": 3
   },
   "file_extension": ".py",
   "mimetype": "text/x-python",
   "name": "python",
   "nbconvert_exporter": "python",
   "pygments_lexer": "ipython3",
   "version": "3.8.5"
  }
 },
 "nbformat": 4,
 "nbformat_minor": 4
}
